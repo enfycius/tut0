{
 "cells": [
  {
   "cell_type": "code",
   "execution_count": 1,
   "metadata": {},
   "outputs": [],
   "source": [
    "import torch\n",
    "import torch.nn as nn"
   ]
  },
  {
   "cell_type": "code",
   "execution_count": 2,
   "metadata": {},
   "outputs": [],
   "source": [
    "class Model(nn.Module):\n",
    "    def __init__(self):\n",
    "        super(Model, self).__init__()\n",
    "        self.param1 = nn.Parameter(\n",
    "            torch.tensor([1, 2, 3], dtype=torch.float32)\n",
    "        )\n",
    "        self.param2 = torch.tensor([4, 5, 6], dtype=torch.float32)\n",
    "        self.li = nn.Linear(3, 1)\n",
    "        \n",
    "    def forward(self, x):\n",
    "        x = x * self.param1\n",
    "        x = x * self.param2\n",
    "        x = self.li(x)\n",
    "\n",
    "        return x"
   ]
  },
  {
   "cell_type": "code",
   "execution_count": 3,
   "metadata": {},
   "outputs": [],
   "source": [
    "model = Model()"
   ]
  },
  {
   "cell_type": "code",
   "execution_count": 4,
   "metadata": {},
   "outputs": [
    {
     "name": "stdout",
     "output_type": "stream",
     "text": [
      "param1 Parameter containing:\n",
      "tensor([1., 2., 3.], requires_grad=True)\n",
      "li.weight Parameter containing:\n",
      "tensor([[-0.4049, -0.3550,  0.5401]], requires_grad=True)\n",
      "li.bias Parameter containing:\n",
      "tensor([-0.3106], requires_grad=True)\n"
     ]
    }
   ],
   "source": [
    "for name, param in model.named_parameters():\n",
    "    print(name, param)"
   ]
  },
  {
   "cell_type": "code",
   "execution_count": 5,
   "metadata": {},
   "outputs": [
    {
     "name": "stderr",
     "output_type": "stream",
     "text": [
      "/home/enfycius/anaconda3/envs/enfy/lib/python3.10/site-packages/torch/nn/modules/loss.py:610: UserWarning: Using a target size (torch.Size([1])) that is different to the input size (torch.Size([2, 1])). This will likely lead to incorrect results due to broadcasting. Please ensure they have the same size.\n",
      "  return F.mse_loss(input, target, reduction=self.reduction)\n"
     ]
    },
    {
     "name": "stdout",
     "output_type": "stream",
     "text": [
      "##########Before Training##########\n",
      "param1: tensor([1., 2., 3.])\n",
      "param2: tensor([4., 5., 6.])\n",
      "li: tensor([[-0.4704,  0.2276,  0.1017]])\n",
      "##########After Training##########\n",
      "param1: tensor([2.2196, 1.0129, 2.3369])\n",
      "param2: tensor([4., 5., 6.])\n",
      "li: tensor([[ -3.0632,  -8.4470, -19.4589]])\n"
     ]
    }
   ],
   "source": [
    "def train():\n",
    "    model = Model()\n",
    "    optimizer = torch.optim.SGD(model.parameters(), lr=0.01)\n",
    "    loss_fn = nn.MSELoss()\n",
    "\n",
    "    input_data = torch.tensor([[1, 2, 3], [4, 5, 6]], dtype=torch.float32)\n",
    "    output_data = model(input_data)\n",
    "    target_data = torch.tensor([1], dtype=torch.float32)\n",
    "\n",
    "    loss = loss_fn(output_data, target_data)\n",
    "\n",
    "    print(\"#\" * 10 + \"Before Training\" + \"#\" * 10)\n",
    "    print(\"param1:\", model.param1.data)\n",
    "    print(\"param2:\", model.param2.data)\n",
    "    print(\"li:\", model.li.weight.data)\n",
    "\n",
    "    optimizer.zero_grad()\n",
    "    loss.backward()\n",
    "    optimizer.step()\n",
    "\n",
    "    print(\"#\" * 10 + \"After Training\" + \"#\" * 10)\n",
    "    print(\"param1:\", model.param1.data)\n",
    "    print(\"param2:\", model.param2.data)\n",
    "    print(\"li:\", model.li.weight.data)\n",
    "\n",
    "\n",
    "if __name__ == \"__main__\":\n",
    "    train()"
   ]
  },
  {
   "cell_type": "markdown",
   "metadata": {},
   "source": [
    "> ```nn.Parameter()```를 통해 선언된 ```param1```은 학습 수행하여 값이 변경되었으나, ```tensor```로 선언된 ```param2```는 학습을 하지 못해서 값이 그대로임."
   ]
  }
 ],
 "metadata": {
  "kernelspec": {
   "display_name": "enfy",
   "language": "python",
   "name": "enfy"
  }
 },
 "nbformat": 4,
 "nbformat_minor": 2
}
